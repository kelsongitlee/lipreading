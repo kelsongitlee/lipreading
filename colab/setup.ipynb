{
  "cells": [
    {
      "cell_type": "markdown",
      "metadata": {},
      "source": [
        "# Lip Reading Model Setup\n",
        "\n",
        "This notebook sets up the lip reading models and dependencies for Google Colab.\n"
      ]
    },
    {
      "cell_type": "code",
      "execution_count": null,
      "metadata": {},
      "outputs": [],
      "source": [
        "# Clone repository and setup dependencies\n",
        "import os\n",
        "import subprocess\n",
        "from pathlib import Path\n",
        "\n",
        "def run(cmd, desc=\"\"):\n",
        "    \"\"\"Run shell command\"\"\"\n",
        "    print(f\"\\n{'='*60}\")\n",
        "    print(f\"{desc}\")\n",
        "    print(f\"{'='*60}\")\n",
        "    result = subprocess.run(cmd, shell=True, capture_output=True, text=True)\n",
        "    if result.returncode != 0:\n",
        "        print(f\"❌ Error: {result.stderr}\")\n",
        "        raise RuntimeError(f\"Command failed: {cmd}\")\n",
        "    print(result.stdout)\n",
        "\n",
        "# Setup repository\n",
        "REPO_DIR = \"/content/lipreading\"\n",
        "\n",
        "if not os.path.exists(REPO_DIR):\n",
        "    run(\"git clone https://github.com/your-repo/lipreading.git /content/lipreading\", \"Cloning repository\")\n",
        "\n",
        "os.chdir(REPO_DIR)\n",
        "print(f\"✅ Working directory: {os.getcwd()}\")\n"
      ]
    },
    {
      "cell_type": "code",
      "execution_count": null,
      "metadata": {},
      "outputs": [],
      "source": [
        "# Install dependencies\n",
        "run(\"pip install -r requirements.txt\", \"Installing base dependencies\")\n",
        "run(\"pip install -r requirements-web.txt\", \"Installing web dependencies\")\n",
        "print(\"✅ Dependencies installed!\")\n"
      ]
    },
    {
      "cell_type": "code",
      "execution_count": null,
      "metadata": {},
      "outputs": [],
      "source": [
        "# Download models from Google Drive\n",
        "import gdown\n",
        "import shutil\n",
        "\n",
        "# Google Drive IDs\n",
        "MAIN_MODEL_GDRIVE_ID = \"1tgzkAHkDcDf3vijkG9PZOxmwUz_YBuCf\"\n",
        "LM_MODEL_GDRIVE_ID = \"1eJZ5n4GU2C3i0WnX3cogK-MVUHz4gk-l\"\n",
        "VIDEO_SAMPLES_GDRIVE_ID = \"your-video-samples-id\"  # Add your video samples ID\n",
        "\n",
        "def download_from_gdrive(file_id, target_dir, desc=\"\", file_types=None):\n",
        "    \"\"\"Download folder from Google Drive and move specified files to correct location\"\"\"\n",
        "    print(f\"\\n📥 Downloading {desc} from Google Drive...\")\n",
        "    os.makedirs(target_dir, exist_ok=True)\n",
        "\n",
        "    # Download folder from Google Drive\n",
        "    cmd = f\"gdown --folder --id {file_id} -O {target_dir}\"\n",
        "    run(cmd, f\"Downloading {desc}\")\n",
        "\n",
        "    # Default to model files if no file types specified\n",
        "    if file_types is None:\n",
        "        file_types = ['model.pth', 'model.json']\n",
        "\n",
        "    # Find and move specified files from subdirectories to target_dir\n",
        "    for root, dirs, files in os.walk(target_dir):\n",
        "        for file in files:\n",
        "            # Check if file matches any of the specified types\n",
        "            if any(file.endswith(ext) for ext in file_types) or file in file_types:\n",
        "                src = os.path.join(root, file)\n",
        "                dst = os.path.join(target_dir, file)\n",
        "                if src != dst:\n",
        "                    print(f\"Moving {file} to correct location\")\n",
        "                    shutil.move(src, dst)\n",
        "\n",
        "    # Clean up empty subdirectories\n",
        "    for root, dirs, files in os.walk(target_dir, topdown=False):\n",
        "        for dir_name in dirs:\n",
        "            dir_path = os.path.join(root, dir_name)\n",
        "            if not os.listdir(dir_path):  # If directory is empty\n",
        "                os.rmdir(dir_path)\n",
        "                print(f\"Cleaned up empty directory: {dir_name}\")\n",
        "\n",
        "    print(f\"✅ {desc} setup complete\")\n",
        "\n",
        "# Download models\n",
        "download_from_gdrive(MAIN_MODEL_GDRIVE_ID, \n",
        "                    \"/content/lipreading/benchmarks/LRS3/models/LRS3_V_WER19.1\", \n",
        "                    \"LRS3_V_WER19.1 model\")\n",
        "\n",
        "download_from_gdrive(LM_MODEL_GDRIVE_ID, \n",
        "                    \"/content/lipreading/benchmarks/LRS3/language_models/lm_en_subword\", \n",
        "                    \"lm_en_subword language model\")\n",
        "\n",
        "# Optional: Download video samples\n",
        "if VIDEO_SAMPLES_GDRIVE_ID != \"your-video-samples-id\":\n",
        "    download_from_gdrive(VIDEO_SAMPLES_GDRIVE_ID, \n",
        "                        \"/content/lipreading/video_samples\", \n",
        "                        \"video samples\",\n",
        "                        ['.mp4', '.avi', '.mov'])\n",
        "\n",
        "print(\"\\n✅ All models downloaded and ready!\")\n"
      ]
    },
    {
      "cell_type": "code",
      "execution_count": null,
      "metadata": {},
      "outputs": [],
      "source": [
        "# Start web server\n",
        "print(\"🚀 Starting Lip Reading Web Server...\")\n",
        "print(\"This will create a public URL accessible from anywhere!\")\n",
        "\n",
        "# Change to web directory and run app\n",
        "os.chdir(\"/content/lipreading\")\n",
        "exec(open('web/app.py').read())\n"
      ]
    }
  ],
  "metadata": {
    "language_info": {
      "name": "python"
    }
  },
  "nbformat": 4,
  "nbformat_minor": 2
}
